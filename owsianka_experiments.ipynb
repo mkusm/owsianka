{
 "cells": [
  {
   "cell_type": "code",
   "execution_count": 1,
   "id": "979e3756-efba-4fdd-9b51-dbd20d11b8b8",
   "metadata": {},
   "outputs": [],
   "source": [
    "import requests"
   ]
  },
  {
   "cell_type": "code",
   "execution_count": 2,
   "id": "62b72c5c-69e1-4bc6-9125-c4398fef876e",
   "metadata": {},
   "outputs": [],
   "source": [
    "from bs4 import BeautifulSoup\n",
    "import re"
   ]
  },
  {
   "cell_type": "code",
   "execution_count": 3,
   "id": "bd490658-9792-409f-a48e-504c34b43ad9",
   "metadata": {},
   "outputs": [],
   "source": [
    "def get_nutritional_values(soup):\n",
    "    nutritional_values = {}\n",
    "    nutrient_gauges = soup.find_all(\"div\", class_=\"new-product-page__nutrient-gauge\")\n",
    "    \n",
    "    for gauge in nutrient_gauges:\n",
    "        title = gauge.find(\"div\", class_=\"new-product-page__nutrient-gauge-title\").text\n",
    "        value = gauge.find(\"div\", class_=\"new-product-page__nutrient-gauge-text\").text\n",
    "        nutritional_values[title] = value\n",
    "\n",
    "    keys = {\n",
    "        'calories': \"Wartość energetyczna (kcal)\",\n",
    "        'fat': \"Tłuszcz (g)\",\n",
    "        'carbs': \"Węglowodany (g)\",\n",
    "        'sugar': \"w tym cukry (g)\",\n",
    "        'protein': \"Białko (g)\"\n",
    "    }\n",
    "    \n",
    "    nutritional_values_converted = {k: float(nutritional_values[v].split()[0]) for k, v in keys.items()}\n",
    "    return nutritional_values_converted"
   ]
  },
  {
   "cell_type": "code",
   "execution_count": 4,
   "id": "c75d612a-123f-4201-b7ee-242a1f39d4c1",
   "metadata": {},
   "outputs": [],
   "source": [
    "def get_price(soup):\n",
    "    price_div = soup.find(\"div\", class_=\"new-product-page__prices_price\")\n",
    "    price_num = price_div.find(\"span\", class_=\"price_num\").text\n",
    "    price_decimals = price_div.find(\"span\", class_=\"price_decimals\").text\n",
    "    price = float(f\"{price_num}.{price_decimals}\")\n",
    "    return price"
   ]
  },
  {
   "cell_type": "code",
   "execution_count": 5,
   "id": "85dfb75d-5819-495f-ab67-7ca0059a8ba4",
   "metadata": {},
   "outputs": [],
   "source": [
    "def get_portion_size(soup):\n",
    "    product_div = soup.find('div', class_=\"product-grammage\")\n",
    "    return float(product_div.text.split('\\xa0')[0])"
   ]
  },
  {
   "cell_type": "code",
   "execution_count": 6,
   "id": "d5ab40b9-47cd-45a4-8eec-0a8c3ed33f9e",
   "metadata": {},
   "outputs": [],
   "source": [
    "def get_frisco_product_data(api_response):\n",
    "    product_url = api_response['productUrl']\n",
    "    html = requests.get(product_url)\n",
    "    soup = BeautifulSoup(html.content, 'html.parser')\n",
    "    data = get_nutritional_values(soup)\n",
    "    data['package_price'] = get_price(soup)\n",
    "    data['package_weight'] = get_portion_size(soup)\n",
    "    data['type'] = api_response['name']['pl']\n",
    "    data['name'] = api_response['brand'] + ((' ' + api_response['subbrand']) if 'subbrand' in api_response else '')\n",
    "    return data"
   ]
  },
  {
   "cell_type": "code",
   "execution_count": 7,
   "id": "b6a91e13-3d67-4582-bbf4-20a74e866072",
   "metadata": {},
   "outputs": [],
   "source": [
    "frisco_ids = [145426, 145237, 125131, 6073]"
   ]
  },
  {
   "cell_type": "code",
   "execution_count": 8,
   "id": "85c34116-197c-40b2-9b32-cfecb6349fea",
   "metadata": {},
   "outputs": [],
   "source": [
    "responses = []\n",
    "for product_id in frisco_ids:\n",
    "    response = requests.get(f\"https://www.frisco.pl/app/commerce/api/v1/offer/products/{product_id}\").json()\n",
    "    responses.append(response)"
   ]
  },
  {
   "cell_type": "code",
   "execution_count": 9,
   "id": "67ec2efe-86c1-4ae2-b59d-38a9e9478605",
   "metadata": {},
   "outputs": [
    {
     "data": {
      "text/plain": [
       "[{'calories': 359.0,\n",
       "  'fat': 7.0,\n",
       "  'carbs': 54.0,\n",
       "  'sugar': 1.1,\n",
       "  'protein': 14.0,\n",
       "  'package_price': 4.69,\n",
       "  'package_weight': 500.0,\n",
       "  'type': 'Płatki owsiane górskie extra',\n",
       "  'name': 'SANTE'},\n",
       " {'calories': 64.0,\n",
       "  'fat': 0.0,\n",
       "  'carbs': 4.1,\n",
       "  'sugar': 4.1,\n",
       "  'protein': 12.0,\n",
       "  'package_price': 7.89,\n",
       "  'package_weight': 450.0,\n",
       "  'type': 'Jogurt typu islandzkiego naturalny',\n",
       "  'name': 'PIĄTNICA Skyr'},\n",
       " {'calories': 603.0,\n",
       "  'fat': 48.0,\n",
       "  'carbs': 12.0,\n",
       "  'sugar': 6.7,\n",
       "  'protein': 27.0,\n",
       "  'package_price': 14.45,\n",
       "  'package_weight': 500.0,\n",
       "  'type': 'Pasta orzechowa crunchy',\n",
       "  'name': 'SANTE GO ON!'},\n",
       " {'calories': 828.0,\n",
       "  'fat': 92.0,\n",
       "  'carbs': 0.0,\n",
       "  'sugar': 0.0,\n",
       "  'protein': 0.0,\n",
       "  'package_price': 41.99,\n",
       "  'package_weight': 500.0,\n",
       "  'type': 'Oliwa z oliwek extra vergine',\n",
       "  'name': 'MONINI GranFruttato'}]"
      ]
     },
     "execution_count": 9,
     "metadata": {},
     "output_type": "execute_result"
    }
   ],
   "source": [
    "[\n",
    "    get_frisco_product_data(api_response) for api_response in responses\n",
    "]"
   ]
  }
 ],
 "metadata": {
  "kernelspec": {
   "display_name": "Python 3 (ipykernel)",
   "language": "python",
   "name": "python3"
  },
  "language_info": {
   "codemirror_mode": {
    "name": "ipython",
    "version": 3
   },
   "file_extension": ".py",
   "mimetype": "text/x-python",
   "name": "python",
   "nbconvert_exporter": "python",
   "pygments_lexer": "ipython3",
   "version": "3.10.12"
  }
 },
 "nbformat": 4,
 "nbformat_minor": 5
}
